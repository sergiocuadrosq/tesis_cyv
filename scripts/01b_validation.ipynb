{
 "cells": [
  {
   "cell_type": "code",
   "execution_count": 12,
   "id": "0ac270bf",
   "metadata": {},
   "outputs": [
    {
     "name": "stdout",
     "output_type": "stream",
     "text": [
      "Root directory: C:\\projects\\tesis_cyv\\scripts\n"
     ]
    }
   ],
   "source": [
    "import pandas as pd\n",
    "import pyreadstat\n",
    "import os\n",
    "from pathlib import Path\n",
    "\n",
    "ROOT = Path().resolve()\n",
    "print(f\"Root directory: {ROOT}\")\n"
   ]
  },
  {
   "cell_type": "code",
   "execution_count": 21,
   "id": "f26dc792",
   "metadata": {},
   "outputs": [
    {
     "name": "stdout",
     "output_type": "stream",
     "text": [
      "[WindowsPath('C:/projects/tesis_cyv/data/processed/2014-2015.dta'), WindowsPath('C:/projects/tesis_cyv/data/processed/2015-2016.dta'), WindowsPath('C:/projects/tesis_cyv/data/processed/2016-2017.dta'), WindowsPath('C:/projects/tesis_cyv/data/processed/2017-2018.dta'), WindowsPath('C:/projects/tesis_cyv/data/processed/2018-2019.dta'), WindowsPath('C:/projects/tesis_cyv/data/processed/2019-2020.dta')]\n"
     ]
    }
   ],
   "source": [
    "folder = ROOT.parent / \"data\" / \"processed\"\n",
    "files = [\n",
    "\t\"2014-2015.dta\",\n",
    "\t\"2015-2016.dta\",\n",
    "\t\"2016-2017.dta\",\n",
    "\t\"2017-2018.dta\",\n",
    "\t\"2018-2019.dta\",\n",
    "\t\"2019-2020.dta\"\n",
    "]\n",
    "paths = [folder / f for f in files]\n",
    "print(paths)"
   ]
  },
  {
   "cell_type": "code",
   "execution_count": 48,
   "id": "59fb1093",
   "metadata": {},
   "outputs": [
    {
     "name": "stdout",
     "output_type": "stream",
     "text": [
      "Processing C:\\projects\\tesis_cyv\\data\\processed\\2014-2015.dta\n"
     ]
    },
    {
     "ename": "KeyError",
     "evalue": "slice(None, 5, None)",
     "output_type": "error",
     "traceback": [
      "\u001b[31m---------------------------------------------------------------------------\u001b[39m",
      "\u001b[31mKeyError\u001b[39m                                  Traceback (most recent call last)",
      "\u001b[36mCell\u001b[39m\u001b[36m \u001b[39m\u001b[32mIn[48]\u001b[39m\u001b[32m, line 5\u001b[39m\n\u001b[32m      3\u001b[39m _, meta = pyreadstat.read_dta(file, metadataonly=\u001b[38;5;28;01mTrue\u001b[39;00m, encoding=\u001b[33m\"\u001b[39m\u001b[33miso-8859-15\u001b[39m\u001b[33m\"\u001b[39m)\n\u001b[32m      4\u001b[39m variables = meta.value_labels\n\u001b[32m----> \u001b[39m\u001b[32m5\u001b[39m \u001b[38;5;28mprint\u001b[39m(\u001b[33m\"\u001b[39m\u001b[33mVariables:\u001b[39m\u001b[33m\"\u001b[39m, \u001b[43mvariables\u001b[49m\u001b[43m[\u001b[49m\u001b[43m:\u001b[49m\u001b[32;43m5\u001b[39;49m\u001b[43m]\u001b[49m, \u001b[33m\"\u001b[39m\u001b[33m...\u001b[39m\u001b[33m\"\u001b[39m)  \u001b[38;5;66;03m# Mostrar solo las primeras 5\u001b[39;00m\n",
      "\u001b[31mKeyError\u001b[39m: slice(None, 5, None)"
     ]
    }
   ],
   "source": [
    "for file in paths:\n",
    "    print(f\"Processing {file}\")\n",
    "    _, meta = pyreadstat.read_dta(file, metadataonly=True, encoding=\"iso-8859-15\")\n",
    "    variables = meta.value_labels\n",
    "    print(\"Variables:\", variables[:5], \"...\")  # Mostrar solo las primeras 5\n",
    "    \n"
   ]
  }
 ],
 "metadata": {
  "kernelspec": {
   "display_name": "Python 3",
   "language": "python",
   "name": "python3"
  },
  "language_info": {
   "codemirror_mode": {
    "name": "ipython",
    "version": 3
   },
   "file_extension": ".py",
   "mimetype": "text/x-python",
   "name": "python",
   "nbconvert_exporter": "python",
   "pygments_lexer": "ipython3",
   "version": "3.13.2"
  }
 },
 "nbformat": 4,
 "nbformat_minor": 5
}
